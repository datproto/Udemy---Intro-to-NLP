{
 "cells": [
  {
   "cell_type": "code",
   "execution_count": 1,
   "id": "7a39d907-d107-43a0-b462-91ab43ef5a6d",
   "metadata": {},
   "outputs": [],
   "source": [
    "import nltk"
   ]
  },
  {
   "cell_type": "code",
   "execution_count": 2,
   "id": "b33692b1-9319-45ca-a7ff-525bc5ecd99b",
   "metadata": {},
   "outputs": [],
   "source": [
    "txt = 'Hello, I think it will rain tomorrow'"
   ]
  },
  {
   "cell_type": "code",
   "execution_count": 4,
   "id": "322130be-23df-4803-a856-c572b628b498",
   "metadata": {},
   "outputs": [],
   "source": [
    "tokens = nltk.word_tokenize(txt)"
   ]
  },
  {
   "cell_type": "code",
   "execution_count": 5,
   "id": "bf523c9f-a115-40c3-afee-da5fce97261b",
   "metadata": {},
   "outputs": [
    {
     "data": {
      "text/plain": [
       "['Hello', ',', 'I', 'think', 'it', 'will', 'rain', 'tomorrow']"
      ]
     },
     "execution_count": 5,
     "metadata": {},
     "output_type": "execute_result"
    }
   ],
   "source": [
    "tokens"
   ]
  },
  {
   "cell_type": "code",
   "execution_count": 6,
   "id": "06c07508-f44d-448a-ad95-51a2fe1d318c",
   "metadata": {},
   "outputs": [],
   "source": [
    "bigrams = nltk.bigrams(tokens)"
   ]
  },
  {
   "cell_type": "code",
   "execution_count": 8,
   "id": "cf83a9e0-fd7f-44a8-b242-c84237ffc102",
   "metadata": {},
   "outputs": [
    {
     "name": "stdout",
     "output_type": "stream",
     "text": [
      "('Hello', ',')\n",
      "(',', 'I')\n",
      "('I', 'think')\n",
      "('think', 'it')\n",
      "('it', 'will')\n",
      "('will', 'rain')\n",
      "('rain', 'tomorrow')\n"
     ]
    }
   ],
   "source": [
    "for item in bigrams:\n",
    "    print(item)"
   ]
  },
  {
   "cell_type": "code",
   "execution_count": 9,
   "id": "4d48a4fc-ce00-4080-8c0e-cd839e241e4d",
   "metadata": {},
   "outputs": [],
   "source": [
    "trigrams = nltk.trigrams(tokens)"
   ]
  },
  {
   "cell_type": "code",
   "execution_count": 10,
   "id": "82e71d03-d5ad-4bb8-b7cd-953f85baf8a4",
   "metadata": {},
   "outputs": [
    {
     "name": "stdout",
     "output_type": "stream",
     "text": [
      "('Hello', ',', 'I')\n",
      "(',', 'I', 'think')\n",
      "('I', 'think', 'it')\n",
      "('think', 'it', 'will')\n",
      "('it', 'will', 'rain')\n",
      "('will', 'rain', 'tomorrow')\n"
     ]
    }
   ],
   "source": [
    "for item in trigrams:\n",
    "    print(item)"
   ]
  },
  {
   "cell_type": "code",
   "execution_count": 11,
   "id": "664fb962-6d17-4462-8f11-42c61e59e3d0",
   "metadata": {},
   "outputs": [],
   "source": [
    "from nltk.util import ngrams"
   ]
  },
  {
   "cell_type": "code",
   "execution_count": 12,
   "id": "5c12323f-4f68-469c-b731-b418d8dc4800",
   "metadata": {},
   "outputs": [],
   "source": [
    "txt2 = 'If it is nice out, I will got to the beach.'"
   ]
  },
  {
   "cell_type": "code",
   "execution_count": 13,
   "id": "fa2cc1c7-47fc-493c-8d86-ca78ee3aa008",
   "metadata": {},
   "outputs": [],
   "source": [
    "tokens = nltk.word_tokenize(txt2)"
   ]
  },
  {
   "cell_type": "code",
   "execution_count": 14,
   "id": "1d7ee88c-d0ad-41e6-a7ed-bd4e8455fe87",
   "metadata": {},
   "outputs": [],
   "source": [
    "bigrams = ngrams(tokens, 2)"
   ]
  },
  {
   "cell_type": "code",
   "execution_count": 15,
   "id": "84c00604-3665-404e-a76c-06c98bc5be05",
   "metadata": {},
   "outputs": [
    {
     "name": "stdout",
     "output_type": "stream",
     "text": [
      "('If', 'it')\n",
      "('it', 'is')\n",
      "('is', 'nice')\n",
      "('nice', 'out')\n",
      "('out', ',')\n",
      "(',', 'I')\n",
      "('I', 'will')\n",
      "('will', 'got')\n",
      "('got', 'to')\n",
      "('to', 'the')\n",
      "('the', 'beach')\n",
      "('beach', '.')\n"
     ]
    }
   ],
   "source": [
    "for item in bigrams:\n",
    "    print(item)"
   ]
  },
  {
   "cell_type": "code",
   "execution_count": 16,
   "id": "3c6932b2-487a-42ad-a195-1380346b3ca0",
   "metadata": {},
   "outputs": [],
   "source": [
    "fourgrams = ngrams(tokens, 4)"
   ]
  },
  {
   "cell_type": "code",
   "execution_count": 17,
   "id": "d8c46722-733e-4c17-a12b-125ef8d8d3f2",
   "metadata": {},
   "outputs": [
    {
     "name": "stdout",
     "output_type": "stream",
     "text": [
      "('If', 'it', 'is', 'nice')\n",
      "('it', 'is', 'nice', 'out')\n",
      "('is', 'nice', 'out', ',')\n",
      "('nice', 'out', ',', 'I')\n",
      "('out', ',', 'I', 'will')\n",
      "(',', 'I', 'will', 'got')\n",
      "('I', 'will', 'got', 'to')\n",
      "('will', 'got', 'to', 'the')\n",
      "('got', 'to', 'the', 'beach')\n",
      "('to', 'the', 'beach', '.')\n"
     ]
    }
   ],
   "source": [
    "for item in fourgrams:\n",
    "    print(item)"
   ]
  },
  {
   "cell_type": "code",
   "execution_count": 18,
   "id": "0b4780c1-f0b6-41b4-9e51-aaee55040ccc",
   "metadata": {},
   "outputs": [],
   "source": [
    "def n_grams(text, n):\n",
    "    tokens = nltk.word_tokenize(text)\n",
    "    grams = ngrams(tokens, n)\n",
    "    return grams"
   ]
  },
  {
   "cell_type": "code",
   "execution_count": 20,
   "id": "4f3462ec-f2ca-46f8-af05-b221d8b1a109",
   "metadata": {},
   "outputs": [],
   "source": [
    "txt3 = txt + '' + txt2"
   ]
  },
  {
   "cell_type": "code",
   "execution_count": 21,
   "id": "ac33d122-f1bd-4302-adcf-1a0269ad3ff9",
   "metadata": {},
   "outputs": [
    {
     "data": {
      "text/plain": [
       "'Hello, I think it will rain tomorrowIf it is nice out, I will got to the beach.'"
      ]
     },
     "execution_count": 21,
     "metadata": {},
     "output_type": "execute_result"
    }
   ],
   "source": [
    "txt3"
   ]
  },
  {
   "cell_type": "code",
   "execution_count": 22,
   "id": "86a80e64-84e3-4b2e-a04e-e94173aa94a5",
   "metadata": {},
   "outputs": [],
   "source": [
    "grams = n_grams(txt3, 5)"
   ]
  },
  {
   "cell_type": "code",
   "execution_count": 24,
   "id": "615679d6-bae5-4478-9692-bc3ae468c844",
   "metadata": {},
   "outputs": [
    {
     "name": "stdout",
     "output_type": "stream",
     "text": [
      "('Hello', ',', 'I', 'think', 'it')\n",
      "(',', 'I', 'think', 'it', 'will')\n",
      "('I', 'think', 'it', 'will', 'rain')\n",
      "('think', 'it', 'will', 'rain', 'tomorrowIf')\n",
      "('it', 'will', 'rain', 'tomorrowIf', 'it')\n",
      "('will', 'rain', 'tomorrowIf', 'it', 'is')\n",
      "('rain', 'tomorrowIf', 'it', 'is', 'nice')\n",
      "('tomorrowIf', 'it', 'is', 'nice', 'out')\n",
      "('it', 'is', 'nice', 'out', ',')\n",
      "('is', 'nice', 'out', ',', 'I')\n",
      "('nice', 'out', ',', 'I', 'will')\n",
      "('out', ',', 'I', 'will', 'got')\n",
      "(',', 'I', 'will', 'got', 'to')\n",
      "('I', 'will', 'got', 'to', 'the')\n",
      "('will', 'got', 'to', 'the', 'beach')\n",
      "('got', 'to', 'the', 'beach', '.')\n"
     ]
    }
   ],
   "source": [
    "for item in grams:\n",
    "    print(item)"
   ]
  }
 ],
 "metadata": {
  "kernelspec": {
   "display_name": "Python [conda env:learn_machine-learning] *",
   "language": "python",
   "name": "conda-env-learn_machine-learning-py"
  },
  "language_info": {
   "codemirror_mode": {
    "name": "ipython",
    "version": 3
   },
   "file_extension": ".py",
   "mimetype": "text/x-python",
   "name": "python",
   "nbconvert_exporter": "python",
   "pygments_lexer": "ipython3",
   "version": "3.9.5"
  }
 },
 "nbformat": 4,
 "nbformat_minor": 5
}
