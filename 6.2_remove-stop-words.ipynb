{
 "cells": [
  {
   "cell_type": "code",
   "execution_count": 1,
   "id": "6af1482e-9209-4f6b-a459-cbfb6b98b2ad",
   "metadata": {},
   "outputs": [],
   "source": [
    "import nltk"
   ]
  },
  {
   "cell_type": "code",
   "execution_count": 2,
   "id": "af7a71b9-6fac-47ab-9798-8c617ce4c0cd",
   "metadata": {},
   "outputs": [],
   "source": [
    "alice = nltk.corpus.gutenberg.words('carroll-alice.txt')"
   ]
  },
  {
   "cell_type": "code",
   "execution_count": 3,
   "id": "e43ae408-e63f-4901-8dc6-6ea3535019c1",
   "metadata": {},
   "outputs": [],
   "source": [
    "alice = [word.lower() for word in alice if word.isalpha()]"
   ]
  },
  {
   "cell_type": "code",
   "execution_count": 4,
   "id": "5d14b05f-19d0-40fc-9837-4ec3579c8c51",
   "metadata": {},
   "outputs": [],
   "source": [
    "alice_fd = nltk.FreqDist(alice)"
   ]
  },
  {
   "cell_type": "code",
   "execution_count": 5,
   "id": "37ff3658-e186-4435-8611-cc34e78873ec",
   "metadata": {},
   "outputs": [],
   "source": [
    "alice_100 = alice_fd.most_common(100)\n",
    "common = [word[0] for word in alice_100]"
   ]
  },
  {
   "cell_type": "code",
   "execution_count": 6,
   "id": "aa9caecb-585d-4116-95ea-3c2a132fe50a",
   "metadata": {
    "collapsed": true,
    "jupyter": {
     "outputs_hidden": true
    },
    "tags": []
   },
   "outputs": [
    {
     "data": {
      "text/plain": [
       "['the',\n",
       " 'and',\n",
       " 'to',\n",
       " 'a',\n",
       " 'it',\n",
       " 'she',\n",
       " 'i',\n",
       " 'of',\n",
       " 'said',\n",
       " 'you',\n",
       " 'alice',\n",
       " 'in',\n",
       " 'was',\n",
       " 'that',\n",
       " 'as',\n",
       " 'her',\n",
       " 't',\n",
       " 'at',\n",
       " 's',\n",
       " 'on',\n",
       " 'all',\n",
       " 'with',\n",
       " 'had',\n",
       " 'but',\n",
       " 'for',\n",
       " 'they',\n",
       " 'so',\n",
       " 'be',\n",
       " 'not',\n",
       " 'very',\n",
       " 'what',\n",
       " 'this',\n",
       " 'little',\n",
       " 'he',\n",
       " 'out',\n",
       " 'is',\n",
       " 'one',\n",
       " 'down',\n",
       " 'up',\n",
       " 'there',\n",
       " 'if',\n",
       " 'his',\n",
       " 'then',\n",
       " 'about',\n",
       " 'no',\n",
       " 'them',\n",
       " 'know',\n",
       " 'like',\n",
       " 'were',\n",
       " 'would',\n",
       " 'went',\n",
       " 'again',\n",
       " 'herself',\n",
       " 'do',\n",
       " 'have',\n",
       " 'when',\n",
       " 'or',\n",
       " 'could',\n",
       " 'queen',\n",
       " 'thought',\n",
       " 'off',\n",
       " 'time',\n",
       " 'how',\n",
       " 'me',\n",
       " 'into',\n",
       " 'see',\n",
       " 'well',\n",
       " 'did',\n",
       " 'm',\n",
       " 'who',\n",
       " 'can',\n",
       " 'king',\n",
       " 'your',\n",
       " 'don',\n",
       " 'now',\n",
       " 'by',\n",
       " 'turtle',\n",
       " 'began',\n",
       " 'my',\n",
       " 'its',\n",
       " 'll',\n",
       " 'an',\n",
       " 'way',\n",
       " 'hatter',\n",
       " 'mock',\n",
       " 'quite',\n",
       " 'gryphon',\n",
       " 'are',\n",
       " 'think',\n",
       " 'just',\n",
       " 'their',\n",
       " 'rabbit',\n",
       " 'much',\n",
       " 'say',\n",
       " 'some',\n",
       " 'first',\n",
       " 'here',\n",
       " 'head',\n",
       " 'go',\n",
       " 'only']"
      ]
     },
     "execution_count": 6,
     "metadata": {},
     "output_type": "execute_result"
    }
   ],
   "source": [
    "common"
   ]
  },
  {
   "cell_type": "code",
   "execution_count": 7,
   "id": "0a813b22-6b06-48e7-8469-1de1e42e0c9b",
   "metadata": {},
   "outputs": [
    {
     "data": {
      "text/plain": [
       "{'alice',\n",
       " 'began',\n",
       " 'could',\n",
       " 'first',\n",
       " 'go',\n",
       " 'gryphon',\n",
       " 'hatter',\n",
       " 'head',\n",
       " 'king',\n",
       " 'know',\n",
       " 'like',\n",
       " 'little',\n",
       " 'mock',\n",
       " 'much',\n",
       " 'one',\n",
       " 'queen',\n",
       " 'quite',\n",
       " 'rabbit',\n",
       " 'said',\n",
       " 'say',\n",
       " 'see',\n",
       " 'think',\n",
       " 'thought',\n",
       " 'time',\n",
       " 'turtle',\n",
       " 'way',\n",
       " 'well',\n",
       " 'went',\n",
       " 'would'}"
      ]
     },
     "execution_count": 7,
     "metadata": {},
     "output_type": "execute_result"
    }
   ],
   "source": [
    "descriptive = set(common) - set(nltk.corpus.stopwords.words('english'))\n",
    "descriptive"
   ]
  }
 ],
 "metadata": {
  "kernelspec": {
   "display_name": "Python [conda env:learn_machine-learning] *",
   "language": "python",
   "name": "conda-env-learn_machine-learning-py"
  },
  "language_info": {
   "codemirror_mode": {
    "name": "ipython",
    "version": 3
   },
   "file_extension": ".py",
   "mimetype": "text/x-python",
   "name": "python",
   "nbconvert_exporter": "python",
   "pygments_lexer": "ipython3",
   "version": "3.9.5"
  }
 },
 "nbformat": 4,
 "nbformat_minor": 5
}
