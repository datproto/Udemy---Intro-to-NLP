{
 "cells": [
  {
   "cell_type": "code",
   "execution_count": 6,
   "id": "517a94d2-de60-4d15-aee1-d9c77387b9d5",
   "metadata": {},
   "outputs": [],
   "source": [
    "import nltk"
   ]
  },
  {
   "cell_type": "code",
   "execution_count": 15,
   "id": "351f47a3-dec2-4157-a501-29b8965fe29c",
   "metadata": {},
   "outputs": [],
   "source": [
    "from helpers.convert_corpus import sentences_from_corpus"
   ]
  },
  {
   "cell_type": "code",
   "execution_count": 17,
   "id": "518e2b27-e872-4612-b428-6ab4db2d4150",
   "metadata": {},
   "outputs": [],
   "source": [
    "sents = sentences_from_corpus(nltk.corpus.gutenberg, 'milton-paradise.txt')\n",
    "story = ' '.join(sents)\n",
    "words = nltk.word_tokenize(story)"
   ]
  },
  {
   "cell_type": "code",
   "execution_count": 18,
   "id": "28222875-ae28-4e24-8b56-27ebfc6ad6e3",
   "metadata": {},
   "outputs": [],
   "source": [
    "txt = 'I will go to Ha Noi city after I get off the jet plane.'"
   ]
  },
  {
   "cell_type": "code",
   "execution_count": 19,
   "id": "e79879d4-55df-49a2-8516-56ba86cdc9c4",
   "metadata": {},
   "outputs": [],
   "source": [
    "txt_tag = nltk.pos_tag(nltk.word_tokenize(txt))"
   ]
  },
  {
   "cell_type": "code",
   "execution_count": 20,
   "id": "a469ac41-7526-410e-a63c-b91d46426d24",
   "metadata": {},
   "outputs": [
    {
     "data": {
      "text/plain": [
       "[('I', 'PRP'),\n",
       " ('will', 'MD'),\n",
       " ('go', 'VB'),\n",
       " ('to', 'TO'),\n",
       " ('Ha', 'NNP'),\n",
       " ('Noi', 'NNP'),\n",
       " ('city', 'NN'),\n",
       " ('after', 'IN'),\n",
       " ('I', 'PRP'),\n",
       " ('get', 'VBP'),\n",
       " ('off', 'IN'),\n",
       " ('the', 'DT'),\n",
       " ('jet', 'NN'),\n",
       " ('plane', 'NN'),\n",
       " ('.', '.')]"
      ]
     },
     "execution_count": 20,
     "metadata": {},
     "output_type": "execute_result"
    }
   ],
   "source": [
    "txt_tag"
   ]
  },
  {
   "cell_type": "code",
   "execution_count": 21,
   "id": "81e568e3-a4fc-40e9-b47a-41bbac52fb32",
   "metadata": {},
   "outputs": [],
   "source": [
    "seq = '''\n",
    "        Chunk:\n",
    "        {<NNPS>+}\n",
    "        {<NNP>+}\n",
    "        {<NN>+}'''"
   ]
  },
  {
   "cell_type": "code",
   "execution_count": 22,
   "id": "38809217-b1c5-4799-b1dc-ac359aab89b9",
   "metadata": {},
   "outputs": [],
   "source": [
    "NPChunker = nltk.RegexpParser(seq)"
   ]
  },
  {
   "cell_type": "code",
   "execution_count": 23,
   "id": "5e0853ad-5e98-4999-8fe3-5a5db5a9012b",
   "metadata": {},
   "outputs": [],
   "source": [
    "res = NPChunker.parse(txt_tag)"
   ]
  },
  {
   "cell_type": "code",
   "execution_count": 25,
   "id": "7e93fcbb-3136-4a57-920d-465ec852a391",
   "metadata": {},
   "outputs": [
    {
     "name": "stdout",
     "output_type": "stream",
     "text": [
      "(S\n",
      "  I/PRP\n",
      "  will/MD\n",
      "  go/VB\n",
      "  to/TO\n",
      "  (Chunk Ha/NNP Noi/NNP)\n",
      "  (Chunk city/NN)\n",
      "  after/IN\n",
      "  I/PRP\n",
      "  get/VBP\n",
      "  off/IN\n",
      "  the/DT\n",
      "  (Chunk jet/NN plane/NN)\n",
      "  ./.)\n"
     ]
    }
   ],
   "source": [
    "print(res)"
   ]
  }
 ],
 "metadata": {
  "kernelspec": {
   "display_name": "Python [conda env:learn_machine-learning] *",
   "language": "python",
   "name": "conda-env-learn_machine-learning-py"
  },
  "language_info": {
   "codemirror_mode": {
    "name": "ipython",
    "version": 3
   },
   "file_extension": ".py",
   "mimetype": "text/x-python",
   "name": "python",
   "nbconvert_exporter": "python",
   "pygments_lexer": "ipython3",
   "version": "3.9.5"
  }
 },
 "nbformat": 4,
 "nbformat_minor": 5
}
