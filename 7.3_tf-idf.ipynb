{
 "cells": [
  {
   "cell_type": "code",
   "execution_count": 1,
   "id": "f420853f-afd6-43fd-a2fc-e47371fce73a",
   "metadata": {},
   "outputs": [],
   "source": [
    "import nltk"
   ]
  },
  {
   "cell_type": "code",
   "execution_count": 3,
   "id": "65c9b3f5-ad28-4c40-87b8-2f8ffa474fe6",
   "metadata": {},
   "outputs": [],
   "source": [
    "dataset = {\n",
    "    'tfidf_1.txt': open('resources/tf-idf/tfidf_1.txt').read(),\n",
    "    'tfidf_2.txt': open('resources/tf-idf/tfidf_2.txt').read(),\n",
    "    'tfidf_3.txt': open('resources/tf-idf/tfidf_3.txt').read(),\n",
    "    'tfidf_4.txt': open('resources/tf-idf/tfidf_4.txt').read(),\n",
    "    'tfidf_5.txt': open('resources/tf-idf/tfidf_5.txt').read(),\n",
    "    'tfidf_6.txt': open('resources/tf-idf/tfidf_6.txt').read(),\n",
    "    'tfidf_7.txt': open('resources/tf-idf/tfidf_7.txt').read(),\n",
    "    'tfidf_8.txt': open('resources/tf-idf/tfidf_8.txt').read(),\n",
    "    'tfidf_9.txt': open('resources/tf-idf/tfidf_9.txt').read(),\n",
    "    'tfidf_10.txt': open('resources/tf-idf/tfidf_10.txt').read(),\n",
    "}"
   ]
  },
  {
   "cell_type": "code",
   "execution_count": 4,
   "id": "b922c91a-20be-4768-84d6-2252612097f1",
   "metadata": {},
   "outputs": [
    {
     "data": {
      "text/plain": [
       "dict_keys(['tfidf_1.txt', 'tfidf_2.txt', 'tfidf_3.txt', 'tfidf_4.txt', 'tfidf_5.txt', 'tfidf_6.txt', 'tfidf_7.txt', 'tfidf_8.txt', 'tfidf_9.txt', 'tfidf_10.txt'])"
      ]
     },
     "execution_count": 4,
     "metadata": {},
     "output_type": "execute_result"
    }
   ],
   "source": [
    "dataset.keys()"
   ]
  },
  {
   "cell_type": "code",
   "execution_count": 6,
   "id": "64436807-ec1c-4308-9256-c1c71b1c8fc6",
   "metadata": {},
   "outputs": [
    {
     "data": {
      "text/plain": [
       "'World War II (WWII or WW2), also known as the Second World War, was a global war that lasted from 1939 to 1945, though related conflicts began earlier. It involved the vast majority of the world\\'s nations—including all of the great powers—eventually forming two opposing military alliances: the Allies and the Axis. It was the most widespread war in history, and directly involved more than 100 million people from over 30 countries. In a state of \"total war\", the major participants threw their entire economic, industrial, and scientific capabilities behind the war effort, erasing the distinction between civilian and military resources. Marked by mass deaths of civilians, including the Holocaust (in which approximately 11 million people were killed) and the strategic bombing of industrial and population centres (in which approximately one million were killed, and which included the atomic bombings of Hiroshima and Nagasaki), it resulted in an estimated 50 million to 85 million fatalities. These made World War II the deadliest conflict in human history.\\n\\nThe Empire of Japan aimed to dominate Asia and the Pacific and was already at war with the Republic of China in 1937, but the world war is generally said to have begun on 1 September 1939 with the invasion of Poland by Germany and subsequent declarations of war on Germany by France and the United Kingdom. From late 1939 to early 1941, in a series of campaigns and treaties, Germany conquered or controlled much of continental Europe, and formed the Axis alliance with Italy and Japan. Based on the Molotov–Ribbentrop Pact of August 1939, Germany and the Soviet Union partitioned and annexed territories of their European neighbours, Poland, Finland, Romania and the Baltic states. For a year starting in late June 1940, the United Kingdom and the British Commonwealth were the only Allied forces continuing the fight against the European Axis powers, with campaigns in North Africa and the Horn of Africa, the aerial Battle of Britain and the Blitz bombing campaign, as well as the long-running Battle of the Atlantic. In June 1941, the European Axis powers launched an invasion of the Soviet Union, opening the largest land theatre of war in history, which trapped the major part of the Axis\\' military forces into a war of attrition. In December 1941, Japan attacked the United States and European territories in the Pacific Ocean, and quickly conquered much of the Western Pacific.\\n\\nThe Axis advance halted in 1942 when Japan lost the critical Battle of Midway, near Hawaii, and Germany was defeated in North Africa and then, decisively, at Stalingrad in the Soviet Union. In 1943, with a series of German defeats on the Eastern Front, the Allied invasion of Italy which brought about Italian surrender, and Allied victories in the Pacific, the Axis lost the initiative and undertook strategic retreat on all fronts. In 1944, the Western Allies invaded German-occupied France, while the Soviet Union regained all of its territorial losses and invaded Germany and its allies. During 1944 and 1945 the Japanese suffered major reverses in mainland Asia in South Central China and Burma, while the Allies crippled the Japanese Navy and captured key Western Pacific islands.\\n\\nThe war in Europe ended with an invasion of Germany by the Western Allies and the Soviet Union culminating in the capture of Berlin by Soviet and Polish troops and the subsequent German unconditional surrender on 8 May 1945. Following the Potsdam Declaration by the Allies on 26 July 1945 and the refusal of Japan to surrender under its terms, the United States dropped atomic bombs on the Japanese cities of Hiroshima and Nagasaki on 6 August and 9 August respectively. With an invasion of the Japanese archipelago imminent, the possibility of additional atomic bombings, and the Soviet Union\\'s declaration of war on Japan and invasion of Manchuria, Japan surrendered on 15 August 1945. Thus ended the war in Asia, cementing the total victory of the Allies.\\n\\nWorld War II altered the political alignment and social structure of the world. The United Nations (UN) was established to foster international co-operation and prevent future conflicts. The victorious great powers—the United States, the Soviet Union, China, the United Kingdom, and France—became the permanent members of the United Nations Security Council. The Soviet Union and the United States emerged as rival superpowers, setting the stage for the Cold War, which lasted for the next 46 years. Meanwhile, the influence of European great powers waned, while the decolonisation of Asia and Africa began. Most countries whose industries had been damaged moved towards economic recovery. Political integration, especially in Europe, emerged as an effort to end pre-war enmities and to create a common identity.'"
      ]
     },
     "execution_count": 6,
     "metadata": {},
     "output_type": "execute_result"
    }
   ],
   "source": [
    "dataset['tfidf_1.txt']"
   ]
  },
  {
   "cell_type": "code",
   "execution_count": 9,
   "id": "8d9c7288-8166-4581-828b-c8e10e5dc0ce",
   "metadata": {},
   "outputs": [],
   "source": [
    "def tf(dataset, file_name):\n",
    "    txt = dataset[file_name]\n",
    "    tokens = nltk.word_tokenize(txt)\n",
    "    fd = nltk.FreqDist(tokens)\n",
    "    return fd"
   ]
  },
  {
   "cell_type": "code",
   "execution_count": 10,
   "id": "48126ff3-4bdb-4cb7-bf3e-f1ec10ea6272",
   "metadata": {},
   "outputs": [
    {
     "data": {
      "text/plain": [
       "FreqDist({'the': 80, ',': 54, 'and': 46, 'of': 39, '.': 27, 'in': 21, 'war': 12, 'on': 11, 'to': 9, 'United': 9, ...})"
      ]
     },
     "execution_count": 10,
     "metadata": {},
     "output_type": "execute_result"
    }
   ],
   "source": [
    "tf(dataset, 'tfidf_1.txt')"
   ]
  },
  {
   "cell_type": "code",
   "execution_count": 12,
   "id": "f7370283-212d-4edb-90ed-eeae6e6de1a8",
   "metadata": {},
   "outputs": [],
   "source": [
    "import math\n",
    "def idf(dataset, term):\n",
    "    count = [term in dataset[file_name] for file_name in dataset]\n",
    "    inv_df = math.log(len(count)/sum(count))\n",
    "    return inv_df"
   ]
  },
  {
   "cell_type": "code",
   "execution_count": 22,
   "id": "ed2cc779-d12a-4a9d-8e34-7b0030445b4f",
   "metadata": {},
   "outputs": [],
   "source": [
    "def tfidf(dataset, file_name, n):\n",
    "    term_scores = {}\n",
    "    file_fd = tf(dataset, file_name)\n",
    "    for term in file_fd:\n",
    "        if term.isalpha():\n",
    "            idf_val = idf(dataset, term)\n",
    "            tf_val = tf(dataset, file_name)[term]\n",
    "            tfidf_val = tf_val * idf_val\n",
    "            term_scores[term] = round(tfidf_val, 2)\n",
    "    return sorted(term_scores.items(), key = lambda x:-x[1])[:n]"
   ]
  },
  {
   "cell_type": "code",
   "execution_count": 23,
   "id": "33dab0e3-9467-4375-91d3-fbebb52081c3",
   "metadata": {},
   "outputs": [
    {
     "data": {
      "text/plain": [
       "[('Soviet', 20.72),\n",
       " ('Union', 18.42),\n",
       " ('Axis', 16.12),\n",
       " ('Japan', 11.27),\n",
       " ('Germany', 11.27),\n",
       " ('Allies', 9.66),\n",
       " ('invasion', 9.66),\n",
       " ('World', 9.21),\n",
       " ('Asia', 9.21),\n",
       " ('Africa', 9.21)]"
      ]
     },
     "execution_count": 23,
     "metadata": {},
     "output_type": "execute_result"
    }
   ],
   "source": [
    "tfidf(dataset, 'tfidf_1.txt', 10)"
   ]
  },
  {
   "cell_type": "code",
   "execution_count": 25,
   "id": "0166afc7-0f8c-475f-8afa-c03aebdbbfde",
   "metadata": {},
   "outputs": [
    {
     "name": "stdout",
     "output_type": "stream",
     "text": [
      "tfidf_1.txt: \n",
      " [('Soviet', 20.72), ('Union', 18.42), ('Axis', 16.12), ('Japan', 11.27), ('Germany', 11.27)] \n",
      "\n",
      "tfidf_2.txt: \n",
      " [('Module', 16.12), ('Armstrong', 13.82), ('lunar', 13.82), ('Apollo', 11.51), ('Moon', 9.21)] \n",
      "\n",
      "tfidf_3.txt: \n",
      " [('Napoleon', 32.19), ('French', 16.86), ('Coalition', 11.51), ('Prussia', 6.91), ('military', 6.02)] \n",
      "\n",
      "tfidf_4.txt: \n",
      " [('Washington', 25.33), ('President', 6.44), ('Continental', 4.82), ('presided', 4.61), ('militia', 4.61)] \n",
      "\n",
      "tfidf_5.txt: \n",
      " [('Newton', 23.03), ('scientists', 6.91), ('motion', 4.83), ('mathematician', 4.61), ('Principia', 4.61)] \n",
      "\n",
      "tfidf_6.txt: \n",
      " [('Revolution', 21.67), ('French', 15.65), ('privileges', 6.91), ('central', 6.91), ('Napoleon', 6.44)] \n",
      "\n",
      "tfidf_7.txt: \n",
      " [('Leonardo', 18.42), ('Vinci', 9.21), ('painting', 6.91), ('Piero', 4.61), ('architecture', 4.61)] \n",
      "\n",
      "tfidf_8.txt: \n",
      " [('Titanic', 18.42), ('passengers', 11.51), ('maritime', 9.21), ('safety', 9.21), ('lifeboats', 9.21)] \n",
      "\n",
      "tfidf_9.txt: \n",
      " [('Rockefeller', 23.03), ('business', 6.91), ('Standard', 6.91), ('Oil', 6.91), ('University', 4.83)] \n",
      "\n",
      "tfidf_10.txt: \n",
      " [('Tesla', 13.82), ('electrical', 6.44), ('wireless', 6.44), ('mechanical', 4.61), ('alternating', 4.61)] \n",
      "\n"
     ]
    }
   ],
   "source": [
    "for file_name in dataset:\n",
    "    print('{0}: \\n {1} \\n'.format(file_name, tfidf(dataset, file_name, 5)))"
   ]
  }
 ],
 "metadata": {
  "kernelspec": {
   "display_name": "Python [conda env:learn_machine-learning] *",
   "language": "python",
   "name": "conda-env-learn_machine-learning-py"
  },
  "language_info": {
   "codemirror_mode": {
    "name": "ipython",
    "version": 3
   },
   "file_extension": ".py",
   "mimetype": "text/x-python",
   "name": "python",
   "nbconvert_exporter": "python",
   "pygments_lexer": "ipython3",
   "version": "3.9.5"
  }
 },
 "nbformat": 4,
 "nbformat_minor": 5
}
