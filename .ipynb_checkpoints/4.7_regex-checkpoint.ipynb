{
 "cells": [
  {
   "cell_type": "code",
   "execution_count": 1,
   "id": "2ceb153a-73a7-448a-91fb-01d7b646af68",
   "metadata": {},
   "outputs": [],
   "source": [
    "import nltk\n",
    "import re"
   ]
  },
  {
   "cell_type": "code",
   "execution_count": 2,
   "id": "280efdfe-2721-4a7b-aa27-310816a31852",
   "metadata": {},
   "outputs": [],
   "source": [
    "alice = nltk.corpus.gutenberg.words('carroll-alice.txt')"
   ]
  },
  {
   "cell_type": "code",
   "execution_count": 7,
   "id": "3c19f819-5c4c-40d9-9a3b-1e8cc3ead4e3",
   "metadata": {},
   "outputs": [],
   "source": [
    "def find_words(pattern, text):\n",
    "    results = set([word for word in text if re.search(pattern, word)])\n",
    "    return results"
   ]
  },
  {
   "cell_type": "code",
   "execution_count": 8,
   "id": "c565a68c-1dbc-4b2b-822c-a5a1e9a4f1f0",
   "metadata": {},
   "outputs": [
    {
     "data": {
      "text/plain": [
       "{'new', 'newspapers'}"
      ]
     },
     "execution_count": 8,
     "metadata": {},
     "output_type": "execute_result"
    }
   ],
   "source": [
    "find_words('^new', alice)"
   ]
  },
  {
   "cell_type": "code",
   "execution_count": 9,
   "id": "19e819dc-9df7-4af2-9acb-d55f61290f56",
   "metadata": {},
   "outputs": [
    {
     "data": {
      "text/plain": [
       "{'Beautiful',\n",
       " 'barrowful',\n",
       " 'beautiful',\n",
       " 'delightful',\n",
       " 'doubtful',\n",
       " 'dreadful',\n",
       " 'graceful',\n",
       " 'hopeful',\n",
       " 'mournful',\n",
       " 'ootiful',\n",
       " 'respectful',\n",
       " 'sorrowful',\n",
       " 'truthful',\n",
       " 'useful',\n",
       " 'wonderful'}"
      ]
     },
     "execution_count": 9,
     "metadata": {},
     "output_type": "execute_result"
    }
   ],
   "source": [
    "find_words('ful$', alice)"
   ]
  },
  {
   "cell_type": "code",
   "execution_count": 13,
   "id": "3f7f83ad-f008-4fc8-9e5a-ee2361303990",
   "metadata": {},
   "outputs": [
    {
     "data": {
      "text/plain": [
       "{'beating',\n",
       " 'chatte',\n",
       " 'feather',\n",
       " 'feathers',\n",
       " 'neatly',\n",
       " 'plates',\n",
       " 'seated',\n",
       " 'slates',\n",
       " 'snatch',\n",
       " 'station',\n",
       " 'thatched',\n",
       " 'whatever'}"
      ]
     },
     "execution_count": 13,
     "metadata": {},
     "output_type": "execute_result"
    }
   ],
   "source": [
    "find_words('^..at..', alice)"
   ]
  },
  {
   "cell_type": "code",
   "execution_count": 14,
   "id": "50ffc595-dffe-4d21-a540-6f490e4ff215",
   "metadata": {},
   "outputs": [
    {
     "data": {
      "text/plain": [
       "{'cat', 'hat', 'rat'}"
      ]
     },
     "execution_count": 14,
     "metadata": {},
     "output_type": "execute_result"
    }
   ],
   "source": [
    "find_words('^[chr]at$', alice)"
   ]
  },
  {
   "cell_type": "code",
   "execution_count": 15,
   "id": "b08d7cc7-8fdf-41d8-baf2-a5a5efc407cb",
   "metadata": {},
   "outputs": [
    {
     "data": {
      "text/plain": [
       "{'Ann',\n",
       " 'Dinn',\n",
       " 'Pennyworth',\n",
       " 'annoy',\n",
       " 'annoyed',\n",
       " 'beginning',\n",
       " 'cannot',\n",
       " 'cunning',\n",
       " 'dinn',\n",
       " 'dinner',\n",
       " 'fanned',\n",
       " 'fanning',\n",
       " 'funny',\n",
       " 'grinned',\n",
       " 'grinning',\n",
       " 'manner',\n",
       " 'manners',\n",
       " 'planning',\n",
       " 'running',\n",
       " 'tunnel'}"
      ]
     },
     "execution_count": 15,
     "metadata": {},
     "output_type": "execute_result"
    }
   ],
   "source": [
    "find_words('^.*nn.*$', alice)"
   ]
  },
  {
   "cell_type": "code",
   "execution_count": 21,
   "id": "a4ea0ca7-55b2-4334-b6c9-7eff6aab3e6c",
   "metadata": {},
   "outputs": [
    {
     "data": {
      "text/plain": [
       "{'beautifully',\n",
       " 'beautify',\n",
       " 'certainly',\n",
       " 'decidedly',\n",
       " 'deeply',\n",
       " 'delay',\n",
       " 'deny',\n",
       " 'desperately',\n",
       " 'feebly',\n",
       " 'generally',\n",
       " 'gently',\n",
       " 'readily',\n",
       " 'ready',\n",
       " 'reality',\n",
       " 'really',\n",
       " 'reply'}"
      ]
     },
     "execution_count": 21,
     "metadata": {},
     "output_type": "execute_result"
    }
   ],
   "source": [
    "find_words('^[abcderfg]e.+y$', alice)"
   ]
  }
 ],
 "metadata": {
  "kernelspec": {
   "display_name": "Python [conda env:learn_machine-learning] *",
   "language": "python",
   "name": "conda-env-learn_machine-learning-py"
  },
  "language_info": {
   "codemirror_mode": {
    "name": "ipython",
    "version": 3
   },
   "file_extension": ".py",
   "mimetype": "text/x-python",
   "name": "python",
   "nbconvert_exporter": "python",
   "pygments_lexer": "ipython3",
   "version": "3.9.5"
  }
 },
 "nbformat": 4,
 "nbformat_minor": 5
}
