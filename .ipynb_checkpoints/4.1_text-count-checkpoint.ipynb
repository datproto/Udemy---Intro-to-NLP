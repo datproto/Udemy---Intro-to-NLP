{
 "cells": [
  {
   "cell_type": "code",
   "execution_count": 3,
   "id": "819886a0-4ab5-47d4-b29c-9e165a60d364",
   "metadata": {
    "collapsed": true,
    "jupyter": {
     "outputs_hidden": true
    },
    "tags": []
   },
   "outputs": [
    {
     "name": "stdout",
     "output_type": "stream",
     "text": [
      "Collecting package metadata (current_repodata.json): done\n",
      "Solving environment: done\n",
      "\n",
      "## Package Plan ##\n",
      "\n",
      "  environment location: /home/datproto/miniforge3/envs/learn_machine-learning\n",
      "\n",
      "  added / updated specs:\n",
      "    - nltk\n",
      "\n",
      "\n",
      "The following packages will be downloaded:\n",
      "\n",
      "    package                    |            build\n",
      "    ---------------------------|-----------------\n",
      "    nltk-3.6.7                 |     pyhd8ed1ab_0         1.1 MB  conda-forge\n",
      "    regex-2021.11.10           |   py39h3811e60_0         380 KB  conda-forge\n",
      "    ------------------------------------------------------------\n",
      "                                           Total:         1.5 MB\n",
      "\n",
      "The following NEW packages will be INSTALLED:\n",
      "\n",
      "  nltk               conda-forge/noarch::nltk-3.6.7-pyhd8ed1ab_0\n",
      "  regex              conda-forge/linux-64::regex-2021.11.10-py39h3811e60_0\n",
      "\n",
      "\n",
      "\n",
      "Downloading and Extracting Packages\n",
      "nltk-3.6.7           | 1.1 MB    | ##################################### | 100% \n",
      "regex-2021.11.10     | 380 KB    | ##################################### | 100% \n",
      "Preparing transaction: done\n",
      "Verifying transaction: done\n",
      "Executing transaction: done\n"
     ]
    }
   ],
   "source": [
    "!conda install nltk -y"
   ]
  },
  {
   "cell_type": "code",
   "execution_count": 49,
   "id": "65f4966a-20d2-4be9-9025-e853e8517c4f",
   "metadata": {},
   "outputs": [],
   "source": [
    "import nltk"
   ]
  },
  {
   "cell_type": "code",
   "execution_count": 63,
   "id": "a36837a2-b70d-4e74-be75-e39f813066fa",
   "metadata": {},
   "outputs": [
    {
     "name": "stderr",
     "output_type": "stream",
     "text": [
      "[nltk_data] Downloading package punkt to /home/datproto/nltk_data...\n",
      "[nltk_data]   Unzipping tokenizers/punkt.zip.\n"
     ]
    },
    {
     "data": {
      "text/plain": [
       "True"
      ]
     },
     "execution_count": 63,
     "metadata": {},
     "output_type": "execute_result"
    }
   ],
   "source": [
    "nltk.download('punkt')"
   ]
  },
  {
   "cell_type": "code",
   "execution_count": 52,
   "id": "2bc01ed4-47de-4b8e-b994-ee8f36f26d7c",
   "metadata": {},
   "outputs": [
    {
     "data": {
      "text/plain": [
       "['austen-emma.txt',\n",
       " 'austen-persuasion.txt',\n",
       " 'austen-sense.txt',\n",
       " 'bible-kjv.txt',\n",
       " 'blake-poems.txt',\n",
       " 'bryant-stories.txt',\n",
       " 'burgess-busterbrown.txt',\n",
       " 'carroll-alice.txt',\n",
       " 'chesterton-ball.txt',\n",
       " 'chesterton-brown.txt',\n",
       " 'chesterton-thursday.txt',\n",
       " 'edgeworth-parents.txt',\n",
       " 'melville-moby_dick.txt',\n",
       " 'milton-paradise.txt',\n",
       " 'shakespeare-caesar.txt',\n",
       " 'shakespeare-hamlet.txt',\n",
       " 'shakespeare-macbeth.txt',\n",
       " 'whitman-leaves.txt']"
      ]
     },
     "execution_count": 52,
     "metadata": {},
     "output_type": "execute_result"
    }
   ],
   "source": [
    "nltk.corpus.gutenberg.fileids()"
   ]
  },
  {
   "cell_type": "code",
   "execution_count": 53,
   "id": "570a3465-5698-440d-af51-ba73ac637c49",
   "metadata": {},
   "outputs": [],
   "source": [
    "md = nltk.corpus.gutenberg.words('bryant-stories.txt')"
   ]
  },
  {
   "cell_type": "code",
   "execution_count": 54,
   "id": "b728d4cb-3c75-4d45-aca0-a0c9c36b7cab",
   "metadata": {},
   "outputs": [
    {
     "data": {
      "text/plain": [
       "['[', 'Stories', 'to', 'Tell', 'to', 'Children', 'by', 'Sara']"
      ]
     },
     "execution_count": 54,
     "metadata": {},
     "output_type": "execute_result"
    }
   ],
   "source": [
    "md[:8]"
   ]
  },
  {
   "cell_type": "code",
   "execution_count": 55,
   "id": "8f4a90aa-50e1-4d4a-904a-7f80463f92f3",
   "metadata": {},
   "outputs": [
    {
     "data": {
      "text/plain": [
       "37"
      ]
     },
     "execution_count": 55,
     "metadata": {},
     "output_type": "execute_result"
    }
   ],
   "source": [
    "md.count('children')"
   ]
  },
  {
   "cell_type": "code",
   "execution_count": 56,
   "id": "64e16364-96ca-4f3c-a6ac-808d8aea90d6",
   "metadata": {},
   "outputs": [
    {
     "data": {
      "text/plain": [
       "55563"
      ]
     },
     "execution_count": 56,
     "metadata": {},
     "output_type": "execute_result"
    }
   ],
   "source": [
    "len(md)"
   ]
  },
  {
   "cell_type": "code",
   "execution_count": 57,
   "id": "3c244c2d-dd63-4d94-84c1-2117e5dc8f8f",
   "metadata": {},
   "outputs": [],
   "source": [
    "md_set = set(md)"
   ]
  },
  {
   "cell_type": "code",
   "execution_count": 58,
   "id": "9c3736c6-e2fb-4d59-aa9e-1837f0b1abd5",
   "metadata": {},
   "outputs": [
    {
     "data": {
      "text/plain": [
       "4420"
      ]
     },
     "execution_count": 58,
     "metadata": {},
     "output_type": "execute_result"
    }
   ],
   "source": [
    "len(md_set)"
   ]
  },
  {
   "cell_type": "code",
   "execution_count": 59,
   "id": "d060b27c-d8c7-4e47-9782-7d0c8b0295ea",
   "metadata": {},
   "outputs": [],
   "source": [
    "from __future__ import division"
   ]
  },
  {
   "cell_type": "code",
   "execution_count": 60,
   "id": "09b0a95e-d390-479d-87cf-28390e4792d1",
   "metadata": {},
   "outputs": [
    {
     "data": {
      "text/plain": [
       "12.57081447963801"
      ]
     },
     "execution_count": 60,
     "metadata": {},
     "output_type": "execute_result"
    }
   ],
   "source": [
    "len(md)/len(md_set)"
   ]
  },
  {
   "cell_type": "code",
   "execution_count": 61,
   "id": "06103a05-c071-4c25-a317-8e266c62807d",
   "metadata": {},
   "outputs": [],
   "source": [
    "md_sents = nltk.corpus.gutenberg.sents(resources + 'bryant-stories.txt')"
   ]
  },
  {
   "cell_type": "code",
   "execution_count": 64,
   "id": "f7d3ee8c-c38a-4e1c-85fc-5ad43466523d",
   "metadata": {},
   "outputs": [
    {
     "data": {
      "text/plain": [
       "19.40726510653161"
      ]
     },
     "execution_count": 64,
     "metadata": {},
     "output_type": "execute_result"
    }
   ],
   "source": [
    "len(md)/len(md_sents)"
   ]
  }
 ],
 "metadata": {
  "kernelspec": {
   "display_name": "Python [conda env:learn_machine-learning] *",
   "language": "python",
   "name": "conda-env-learn_machine-learning-py"
  },
  "language_info": {
   "codemirror_mode": {
    "name": "ipython",
    "version": 3
   },
   "file_extension": ".py",
   "mimetype": "text/x-python",
   "name": "python",
   "nbconvert_exporter": "python",
   "pygments_lexer": "ipython3",
   "version": "3.9.5"
  }
 },
 "nbformat": 4,
 "nbformat_minor": 5
}
