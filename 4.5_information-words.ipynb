{
 "cells": [
  {
   "cell_type": "code",
   "execution_count": 9,
   "id": "9664a395-9bf0-4700-9f62-371a2e806121",
   "metadata": {},
   "outputs": [],
   "source": [
    "import nltk"
   ]
  },
  {
   "cell_type": "code",
   "execution_count": 10,
   "id": "f6dc6eb6-ba9f-476d-b084-6e6474fa08cb",
   "metadata": {},
   "outputs": [],
   "source": [
    "alice = nltk.corpus.gutenberg.words('carroll-alice.txt')\n",
    "alice_fd = nltk.FreqDist(alice)\n",
    "alice_fd_100 = alice_fd.most_common(100)"
   ]
  },
  {
   "cell_type": "code",
   "execution_count": 11,
   "id": "31f0d96e-29ff-4513-9859-fca74e0dd976",
   "metadata": {},
   "outputs": [],
   "source": [
    "moby = nltk.corpus.gutenberg.words('melville-moby_dick.txt')\n",
    "moby_fd = nltk.FreqDist(moby)\n",
    "moby_fd_100 = moby_fd.most_common(100)"
   ]
  },
  {
   "cell_type": "code",
   "execution_count": 12,
   "id": "bf9b097c-7f2b-475c-8a74-098806455dee",
   "metadata": {},
   "outputs": [
    {
     "data": {
      "text/plain": [
       "[(',', 1993),\n",
       " (\"'\", 1731),\n",
       " ('the', 1527),\n",
       " ('and', 802),\n",
       " ('.', 764),\n",
       " ('to', 725),\n",
       " ('a', 615),\n",
       " ('I', 543),\n",
       " ('it', 527),\n",
       " ('she', 509),\n",
       " ('of', 500),\n",
       " ('said', 456),\n",
       " (\",'\", 397),\n",
       " ('Alice', 396),\n",
       " ('in', 357),\n",
       " ('was', 352),\n",
       " ('you', 345),\n",
       " (\"!'\", 278),\n",
       " ('that', 275),\n",
       " ('as', 246),\n",
       " ('her', 243),\n",
       " (':', 216),\n",
       " ('t', 216),\n",
       " ('at', 202),\n",
       " ('s', 195),\n",
       " ('on', 189),\n",
       " (\".'\", 187),\n",
       " (';', 186),\n",
       " ('had', 177),\n",
       " ('with', 175),\n",
       " ('all', 173),\n",
       " ('!', 155),\n",
       " (\"?'\", 154),\n",
       " ('be', 145),\n",
       " ('-', 141),\n",
       " ('for', 140),\n",
       " ('--', 140),\n",
       " ('but', 133),\n",
       " ('not', 129),\n",
       " ('they', 129),\n",
       " ('very', 126),\n",
       " ('little', 125),\n",
       " ('so', 124),\n",
       " ('out', 116),\n",
       " ('this', 113),\n",
       " ('The', 108),\n",
       " ('he', 101),\n",
       " ('down', 99),\n",
       " ('up', 98),\n",
       " ('is', 97),\n",
       " ('about', 94),\n",
       " ('one', 94),\n",
       " ('his', 94),\n",
       " ('what', 93),\n",
       " ('them', 88),\n",
       " ('know', 87),\n",
       " ('were', 85),\n",
       " ('like', 84),\n",
       " ('went', 83),\n",
       " ('again', 83),\n",
       " ('herself', 83),\n",
       " ('if', 78),\n",
       " ('or', 76),\n",
       " ('thought', 74),\n",
       " ('Queen', 74),\n",
       " ('could', 73),\n",
       " ('have', 73),\n",
       " ('then', 72),\n",
       " ('would', 70),\n",
       " ('no', 69),\n",
       " ('when', 69),\n",
       " ('do', 68),\n",
       " ('time', 68),\n",
       " ('into', 67),\n",
       " ('And', 67),\n",
       " ('see', 66),\n",
       " ('there', 65),\n",
       " ('It', 64),\n",
       " ('off', 62),\n",
       " ('me', 61),\n",
       " ('King', 61),\n",
       " ('did', 60),\n",
       " ('*', 60),\n",
       " ('Turtle', 59),\n",
       " ('began', 58),\n",
       " ('m', 58),\n",
       " ('can', 57),\n",
       " ('way', 56),\n",
       " ('ll', 56),\n",
       " ('its', 56),\n",
       " ('Mock', 56),\n",
       " ('by', 55),\n",
       " ('my', 55),\n",
       " ('Hatter', 55),\n",
       " ('Gryphon', 55),\n",
       " ('quite', 53),\n",
       " ('your', 53),\n",
       " ('an', 52),\n",
       " ('much', 51),\n",
       " ('say', 51)]"
      ]
     },
     "execution_count": 12,
     "metadata": {},
     "output_type": "execute_result"
    }
   ],
   "source": [
    "alice_fd_100"
   ]
  },
  {
   "cell_type": "code",
   "execution_count": 13,
   "id": "8ee90761-57fa-48ce-81d9-b392286976e9",
   "metadata": {},
   "outputs": [],
   "source": [
    "alice_100 = [word[0] for word in alice_fd_100]\n",
    "moby_100 = [word[0] for word in moby_fd_100]"
   ]
  },
  {
   "cell_type": "code",
   "execution_count": 14,
   "id": "c7822f96-f898-4f1d-a185-a46b4c285966",
   "metadata": {},
   "outputs": [
    {
     "data": {
      "text/plain": [
       "{\"!'\",\n",
       " '*',\n",
       " \",'\",\n",
       " \".'\",\n",
       " ':',\n",
       " \"?'\",\n",
       " 'Alice',\n",
       " 'Gryphon',\n",
       " 'Hatter',\n",
       " 'King',\n",
       " 'Mock',\n",
       " 'Queen',\n",
       " 'Turtle',\n",
       " 'again',\n",
       " 'began',\n",
       " 'can',\n",
       " 'could',\n",
       " 'did',\n",
       " 'do',\n",
       " 'herself',\n",
       " 'know',\n",
       " 'little',\n",
       " 'll',\n",
       " 'm',\n",
       " 'much',\n",
       " 'off',\n",
       " 'quite',\n",
       " 'said',\n",
       " 'say',\n",
       " 'see',\n",
       " 'she',\n",
       " 't',\n",
       " 'thought',\n",
       " 'way',\n",
       " 'went',\n",
       " 'your'}"
      ]
     },
     "execution_count": 14,
     "metadata": {},
     "output_type": "execute_result"
    }
   ],
   "source": [
    "set(alice_100) - set(moby_100)"
   ]
  },
  {
   "cell_type": "code",
   "execution_count": 15,
   "id": "b62d48c8-66eb-499b-a5fa-173d434a3389",
   "metadata": {},
   "outputs": [
    {
     "data": {
      "text/plain": [
       "{'!\"',\n",
       " '\"',\n",
       " '.\"',\n",
       " '?',\n",
       " 'Ahab',\n",
       " 'But',\n",
       " 'any',\n",
       " 'are',\n",
       " 'been',\n",
       " 'boat',\n",
       " 'from',\n",
       " 'head',\n",
       " 'him',\n",
       " 'long',\n",
       " 'man',\n",
       " 'more',\n",
       " 'now',\n",
       " 'old',\n",
       " 'only',\n",
       " 'other',\n",
       " 'over',\n",
       " 'sea',\n",
       " 'ship',\n",
       " 'some',\n",
       " 'such',\n",
       " 'than',\n",
       " 'their',\n",
       " 'these',\n",
       " 'though',\n",
       " 'upon',\n",
       " 'we',\n",
       " 'whale',\n",
       " 'which',\n",
       " 'who',\n",
       " 'will',\n",
       " 'ye'}"
      ]
     },
     "execution_count": 15,
     "metadata": {},
     "output_type": "execute_result"
    }
   ],
   "source": [
    "set(moby_100) - set(alice_100)"
   ]
  },
  {
   "cell_type": "code",
   "execution_count": null,
   "id": "f860a219-1700-474a-ab6a-bcf8301f9164",
   "metadata": {},
   "outputs": [],
   "source": []
  }
 ],
 "metadata": {
  "kernelspec": {
   "display_name": "Python [conda env:learn_machine-learning] *",
   "language": "python",
   "name": "conda-env-learn_machine-learning-py"
  },
  "language_info": {
   "codemirror_mode": {
    "name": "ipython",
    "version": 3
   },
   "file_extension": ".py",
   "mimetype": "text/x-python",
   "name": "python",
   "nbconvert_exporter": "python",
   "pygments_lexer": "ipython3",
   "version": "3.9.5"
  }
 },
 "nbformat": 4,
 "nbformat_minor": 5
}
